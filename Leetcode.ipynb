{
 "cells": [
  {
   "cell_type": "code",
   "execution_count": 459,
   "metadata": {},
   "outputs": [
    {
     "name": "stdout",
     "output_type": "stream",
     "text": [
      "[1, 2, 3, 4, 4, 53, 67]\n"
     ]
    }
   ],
   "source": [
    "# Bubble_sort\n",
    "def bubble_sort(nums):\n",
    "    swapped = True\n",
    "    while swapped:\n",
    "        swapped = False\n",
    "        for i in range(len(nums)-1):\n",
    "            if(nums[i]>nums[i+1]):\n",
    "                nums[i], nums[i+1] = nums[i+1],nums[i]\n",
    "#                 print(nums) \n",
    "                swapped  = True\n",
    "    return nums\n",
    "x = [1,4,2,4,53,3,67,]\n",
    "\n",
    "print(bubble_sort(x))"
   ]
  },
  {
   "cell_type": "code",
   "execution_count": 461,
   "metadata": {},
   "outputs": [
    {
     "name": "stdout",
     "output_type": "stream",
     "text": [
      "[4, 3, 2, 10, 12, 1, 5, 6]\n"
     ]
    }
   ],
   "source": [
    "def insertion_sort(nums):\n",
    "    for i in range(len(nums)-1):\n",
    "        key = nums[i]\n",
    "        j = i-1\n",
    "        while j>=0 and key<nums[j]:\n",
    "            nums[j] = key\n",
    "            j=j-1\n",
    "            print(nums)\n",
    "        return nums\n",
    "y = [4,3,2,10,12,1,5,6]    \n",
    "print(insertion_sort(y))"
   ]
  },
  {
   "cell_type": "code",
   "execution_count": 81,
   "metadata": {},
   "outputs": [
    {
     "name": "stdout",
     "output_type": "stream",
     "text": [
      "[3, 4, 2, 10, 12, 1, 5, 6]\n",
      "[2, 4, 3, 10, 12, 1, 5, 6]\n",
      "[2, 4, 3, 10, 12, 1, 5, 6]\n",
      "[2, 4, 3, 10, 12, 1, 5, 6]\n",
      "[1, 4, 3, 10, 12, 2, 5, 6]\n",
      "[1, 4, 3, 10, 12, 2, 5, 6]\n",
      "[1, 4, 3, 10, 12, 2, 5, 6]\n",
      "[1, 4, 3, 10, 12, 2, 5, 6]\n",
      "[1, 3, 4, 10, 12, 2, 5, 6]\n",
      "[1, 3, 4, 10, 12, 2, 5, 6]\n",
      "[1, 3, 4, 10, 12, 2, 5, 6]\n",
      "[1, 2, 4, 10, 12, 3, 5, 6]\n",
      "[1, 2, 4, 10, 12, 3, 5, 6]\n",
      "[1, 2, 4, 10, 12, 3, 5, 6]\n",
      "[1, 4, 2, 10, 12, 3, 5, 6]\n",
      "[1, 4, 2, 10, 12, 3, 5, 6]\n",
      "[1, 4, 2, 10, 12, 3, 5, 6]\n",
      "[1, 4, 2, 10, 12, 3, 5, 6]\n",
      "[1, 4, 3, 10, 12, 2, 5, 6]\n",
      "[1, 4, 3, 10, 12, 2, 5, 6]\n",
      "[1, 4, 3, 10, 12, 2, 5, 6]\n",
      "[1, 10, 3, 4, 12, 2, 5, 6]\n",
      "[1, 10, 4, 3, 12, 2, 5, 6]\n",
      "[1, 10, 4, 3, 12, 2, 5, 6]\n",
      "[1, 10, 4, 3, 12, 2, 5, 6]\n",
      "[1, 10, 4, 2, 12, 3, 5, 6]\n",
      "[1, 10, 4, 5, 12, 3, 2, 6]\n",
      "[1, 10, 4, 6, 12, 3, 2, 5]\n",
      "[1, 12, 4, 6, 10, 3, 2, 5]\n",
      "[1, 12, 10, 6, 4, 3, 2, 5]\n",
      "[1, 12, 10, 4, 6, 3, 2, 5]\n",
      "[1, 12, 10, 4, 6, 3, 2, 5]\n",
      "[1, 12, 10, 4, 3, 6, 2, 5]\n",
      "[1, 12, 10, 4, 2, 6, 3, 5]\n",
      "[1, 12, 10, 4, 5, 6, 3, 2]\n",
      "[1, 12, 10, 4, 5, 6, 3, 2]\n",
      "[1, 12, 10, 4, 5, 6, 3, 2]\n",
      "[1, 12, 10, 6, 5, 4, 3, 2]\n",
      "[1, 12, 10, 6, 4, 5, 3, 2]\n",
      "[1, 12, 10, 6, 4, 5, 3, 2]\n",
      "[1, 12, 10, 6, 4, 3, 5, 2]\n",
      "[1, 12, 10, 6, 4, 2, 5, 3]\n",
      "[1, 12, 10, 6, 4, 2, 5, 3]\n",
      "[1, 12, 10, 6, 4, 2, 5, 3]\n",
      "[1, 12, 10, 6, 4, 2, 5, 3]\n",
      "[1, 12, 10, 6, 5, 2, 4, 3]\n",
      "[1, 12, 10, 6, 5, 4, 2, 3]\n",
      "[1, 12, 10, 6, 5, 4, 2, 3]\n",
      "[1, 12, 10, 6, 5, 4, 3, 2]\n",
      "[1, 12, 10, 6, 5, 4, 3, 2]\n"
     ]
    }
   ],
   "source": [
    "def selection_sort(nums):\n",
    "    for i in range(len(nums) - 1):\n",
    "        key = nums[i]\n",
    "        for j in range((len(nums)-1)):     \n",
    "            if key>nums[j+1]:\n",
    "                nums[i],nums[j+1] = nums[j+1],nums[i]\n",
    "            j=j-1\n",
    "            print(nums)          \n",
    "    return nums\n",
    "    \n",
    "print(selection_sort(y))"
   ]
  },
  {
   "cell_type": "code",
   "execution_count": 159,
   "metadata": {},
   "outputs": [
    {
     "name": "stdout",
     "output_type": "stream",
     "text": [
      "1\n",
      "2\n",
      "66.66666666666667\n"
     ]
    }
   ],
   "source": [
    "# Databricks\n",
    "def question_1(date, dataframe):\n",
    "    count = 0\n",
    "    for i in range(len(dataframe)):\n",
    "        if(dataframe.iloc[i,3] >0 and dataframe.iloc[i,3] == date or dataframe.iloc[i,2] == 'open' or dataframe.iloc[i,2] =='fraud'): \n",
    "            print(dataframe.iloc[i,0])\n",
    "            count = count + 1\n",
    "    return(count*100/len(dataframe))\n",
    "    \n",
    "print(question_1('09/09/2019',df))\n"
   ]
  },
  {
   "cell_type": "code",
   "execution_count": 190,
   "metadata": {},
   "outputs": [
    {
     "name": "stdout",
     "output_type": "stream",
     "text": [
      "[7, 6, 8, 9]\n",
      "9\n",
      "6\n"
     ]
    }
   ],
   "source": [
    "import itertools\n",
    "import numpy as np\n",
    "def avg_moving(nums):\n",
    "    sum_list =[]\n",
    "    list_tuples = list(itertools.combinations(nums, 3))\n",
    "#     print(list_tuples)\n",
    "    for i in range(len(list_tuples)):\n",
    "        sums = sum(list_tuples[i])\n",
    "        sum_list.append(sums)\n",
    "    return sum_list\n",
    "\n",
    "z=[1,2,4,3]\n",
    "print(avg_moving(z))\n",
    "print(np.max(avg_moving(z)))\n",
    "print(np.min(avg_moving(z)))\n"
   ]
  },
  {
   "cell_type": "code",
   "execution_count": 204,
   "metadata": {},
   "outputs": [
    {
     "name": "stdout",
     "output_type": "stream",
     "text": [
      "False\n"
     ]
    }
   ],
   "source": [
    "# QUESTION_9 palindrome number\n",
    "def isPalindrome(x):\n",
    "    rev = 0\n",
    "    var = x\n",
    "    if(var < 0):\n",
    "        return False\n",
    "    if(x%10 == 0):\n",
    "        return False\n",
    "    if(x>0):\n",
    "        while(x>0):\n",
    "            temp = x%10\n",
    "            rev = rev*10 + temp\n",
    "            x = x//10\n",
    "        if(rev == var):\n",
    "            return True\n",
    "    return False\n",
    "x = 1550\n",
    "print(isPalindrome(x))"
   ]
  },
  {
   "cell_type": "code",
   "execution_count": 463,
   "metadata": {},
   "outputs": [
    {
     "name": "stdout",
     "output_type": "stream",
     "text": [
      "34\n"
     ]
    }
   ],
   "source": [
    "# Questions_13-Convert roman to Int\n",
    "def romanToInt(s):\n",
    "    result = 0\n",
    "    roman_list = []\n",
    "    \n",
    "    for i in range(len(s)):\n",
    "\n",
    "        if (s[i]=='I'):\n",
    "            temp = 1\n",
    "        if (s[i]=='V'):\n",
    "            temp = 5\n",
    "        if (s[i]=='X'):\n",
    "            temp = 10\n",
    "        if (s[i]=='L'):\n",
    "            temp = 50\n",
    "        if (s[i]=='C'):\n",
    "            temp = 100\n",
    "        if (s[i]=='D'):\n",
    "            temp = 500\n",
    "        if (s[i]=='M'):\n",
    "            temp = 1000 \n",
    "        roman_list.append(temp)\n",
    "        \n",
    "    for i in range(len(roman_list)-1):\n",
    "        if(roman_list[i]>=roman_list[i+1]):\n",
    "            result =result + roman_list[i]\n",
    "        if(roman_list[i]<roman_list[i+1]):\n",
    "            result = result - roman_list[i]\n",
    "    result = result + roman_list[len(roman_list)-1]\n",
    "\n",
    "    return result\n",
    "\n",
    "print(romanToInt('XXXIV'))"
   ]
  },
  {
   "cell_type": "code",
   "execution_count": 225,
   "metadata": {},
   "outputs": [],
   "source": [
    "# Quesion_59 \n",
    "def lengthOfLastWord(self, s):\n",
    "    count = 0\n",
    "    s= s.strip()\n",
    "    for i in range(len(s)):\n",
    "        if (s[i]!=' '):\n",
    "            count +=1\n",
    "        else:\n",
    "            count = 0\n",
    "    return count\n",
    "\n",
    "        "
   ]
  },
  {
   "cell_type": "code",
   "execution_count": 331,
   "metadata": {},
   "outputs": [],
   "source": [
    "# Question_67 Add Binary\n",
    "def bin_to_num(x):\n",
    "    temp = 0\n",
    "    for i in range(len(x)-1,-1,-1):\n",
    "        pow_value = len(x)-i-1\n",
    "        num = int(x[i])\n",
    "        temp += (2 ** pow_value) * num\n",
    "    print(temp)\n",
    "    return(temp)\n",
    "\n",
    "def num_to_bin(q):\n",
    "    temp = 0\n",
    "    s=''\n",
    "    while(q>0):\n",
    "        if q%2==0:\n",
    "            temp = 0\n",
    "        else:\n",
    "            temp = 1\n",
    "            q -= 1\n",
    "        temp_str = str(temp)\n",
    "        temp_str += s\n",
    "        s = temp_str\n",
    "        q = q/2\n",
    "\n",
    "    return s\n",
    "\n",
    "def addBinary(a, b):\n",
    "    if a=='0' and b=='0':\n",
    "        return '0'\n",
    "    a_int = bin_to_num(a)\n",
    "    b_int = bin_to_num(b)\n",
    "    c_int = a_int + b_int\n",
    "    c_str = num_to_bin(c_int)\n",
    "    return c_str\n",
    "\n"
   ]
  },
  {
   "cell_type": "code",
   "execution_count": 379,
   "metadata": {},
   "outputs": [],
   "source": [
    "# Question_20 Valid Parenthesis\n",
    "def isValid(s):\n",
    "    \"\"\"\n",
    "    :type s: str\n",
    "    :rtype: bool\n",
    "    \"\"\"\n",
    "    for i in range(len(s)-1):\n",
    "        temp = s[i]\n",
    "        if temp == '{':\n",
    "            if s[len(s)-i-1]=='}':\n",
    "                flag = True\n",
    "            else:\n",
    "                return False\n",
    "\n",
    "        if temp == '(':\n",
    "            if s[len(s)-i-1]==')':\n",
    "                flag = True\n",
    "            else:\n",
    "                return False\n",
    "\n",
    "        if temp == '[':\n",
    "            if s[len(s)-i-1]==']':\n",
    "                flag = True\n",
    "            else:\n",
    "                return False\n",
    "    return flag"
   ]
  },
  {
   "cell_type": "code",
   "execution_count": 383,
   "metadata": {},
   "outputs": [
    {
     "name": "stdout",
     "output_type": "stream",
     "text": [
      "False\n"
     ]
    }
   ],
   "source": [
    "ques = '{}{}()'\n",
    "print(isValid(ques))"
   ]
  },
  {
   "cell_type": "code",
   "execution_count": 464,
   "metadata": {},
   "outputs": [
    {
     "ename": "SyntaxError",
     "evalue": "invalid syntax (<ipython-input-464-abcbc62c4fb1>, line 11)",
     "output_type": "error",
     "traceback": [
      "\u001b[0;36m  File \u001b[0;32m\"<ipython-input-464-abcbc62c4fb1>\"\u001b[0;36m, line \u001b[0;32m11\u001b[0m\n\u001b[0;31m    while stack i > 0:\u001b[0m\n\u001b[0m                ^\u001b[0m\n\u001b[0;31mSyntaxError\u001b[0m\u001b[0;31m:\u001b[0m invalid syntax\n"
     ]
    }
   ],
   "source": [
    "def stack_isValid(s):\n",
    "    \"\"\"\n",
    "    :type s: str\n",
    "    :rtype: bool\n",
    "    \"\"\"\n",
    "    stack = []\n",
    "    for i in range(len(s)-1):\n",
    "\n",
    "        temp = s[i]\n",
    "        stack.append(temp)\n",
    "        while stack i > 0:\n",
    "#             print(\"fcuk\")\n",
    "            if stack[i-1] == '{' and stack[i]=='}':\n",
    "#                 print(stack[i-1])\n",
    "#                 print(stack[i])\n",
    "                del stack[-2:]\n",
    "#                 print(\"fcuk b4 break\")\n",
    "            if stack[i-1] == '(' and stack[i]==')':\n",
    "                del stack[-2:]\n",
    "                \n",
    "            if stack[i-1] == '[' and stack[i]==']':\n",
    "                del stack[-2:]\n",
    "                \n",
    "        print(stack)\n",
    "    if not stack:\n",
    "        flag = True\n",
    "    else:\n",
    "        flag = False\n",
    "    return flag"
   ]
  },
  {
   "cell_type": "code",
   "execution_count": 466,
   "metadata": {},
   "outputs": [
    {
     "name": "stdout",
     "output_type": "stream",
     "text": [
      "['{']\n"
     ]
    },
    {
     "ename": "IndexError",
     "evalue": "list index out of range",
     "output_type": "error",
     "traceback": [
      "\u001b[0;31m---------------------------------------------------------------------------\u001b[0m",
      "\u001b[0;31mIndexError\u001b[0m                                Traceback (most recent call last)",
      "\u001b[0;32m<ipython-input-466-3722e07552a7>\u001b[0m in \u001b[0;36m<module>\u001b[0;34m\u001b[0m\n\u001b[1;32m      1\u001b[0m \u001b[0mques\u001b[0m \u001b[0;34m=\u001b[0m \u001b[0;34m'{}[]()'\u001b[0m\u001b[0;34m\u001b[0m\u001b[0;34m\u001b[0m\u001b[0m\n\u001b[0;32m----> 2\u001b[0;31m \u001b[0mprint\u001b[0m\u001b[0;34m(\u001b[0m\u001b[0mstack_isValid\u001b[0m\u001b[0;34m(\u001b[0m\u001b[0mques\u001b[0m\u001b[0;34m)\u001b[0m\u001b[0;34m)\u001b[0m\u001b[0;34m\u001b[0m\u001b[0;34m\u001b[0m\u001b[0m\n\u001b[0m",
      "\u001b[0;32m<ipython-input-454-49e07e1b68c1>\u001b[0m in \u001b[0;36mstack_isValid\u001b[0;34m(s)\u001b[0m\n\u001b[1;32m     16\u001b[0m                 \u001b[0;32mdel\u001b[0m \u001b[0mstack\u001b[0m\u001b[0;34m[\u001b[0m\u001b[0;34m-\u001b[0m\u001b[0;36m2\u001b[0m\u001b[0;34m:\u001b[0m\u001b[0;34m]\u001b[0m\u001b[0;34m\u001b[0m\u001b[0;34m\u001b[0m\u001b[0m\n\u001b[1;32m     17\u001b[0m \u001b[0;31m#                 print(\"fcuk b4 break\")\u001b[0m\u001b[0;34m\u001b[0m\u001b[0;34m\u001b[0m\u001b[0;34m\u001b[0m\u001b[0m\n\u001b[0;32m---> 18\u001b[0;31m             \u001b[0;32mif\u001b[0m \u001b[0mstack\u001b[0m\u001b[0;34m[\u001b[0m\u001b[0mi\u001b[0m\u001b[0;34m-\u001b[0m\u001b[0;36m1\u001b[0m\u001b[0;34m]\u001b[0m \u001b[0;34m==\u001b[0m \u001b[0;34m'('\u001b[0m \u001b[0;32mand\u001b[0m \u001b[0mstack\u001b[0m\u001b[0;34m[\u001b[0m\u001b[0mi\u001b[0m\u001b[0;34m]\u001b[0m\u001b[0;34m==\u001b[0m\u001b[0;34m')'\u001b[0m\u001b[0;34m:\u001b[0m\u001b[0;34m\u001b[0m\u001b[0;34m\u001b[0m\u001b[0m\n\u001b[0m\u001b[1;32m     19\u001b[0m                 \u001b[0;32mdel\u001b[0m \u001b[0mstack\u001b[0m\u001b[0;34m[\u001b[0m\u001b[0;34m-\u001b[0m\u001b[0;36m2\u001b[0m\u001b[0;34m:\u001b[0m\u001b[0;34m]\u001b[0m\u001b[0;34m\u001b[0m\u001b[0;34m\u001b[0m\u001b[0m\n\u001b[1;32m     20\u001b[0m \u001b[0;34m\u001b[0m\u001b[0m\n",
      "\u001b[0;31mIndexError\u001b[0m: list index out of range"
     ]
    }
   ],
   "source": [
    "ques = '{}[]()'\n",
    "print(stack_isValid(ques))"
   ]
  },
  {
   "cell_type": "code",
   "execution_count": 450,
   "metadata": {},
   "outputs": [
    {
     "data": {
      "text/plain": [
       "'['"
      ]
     },
     "execution_count": 450,
     "metadata": {},
     "output_type": "execute_result"
    }
   ],
   "source": [
    "high[2]"
   ]
  },
  {
   "cell_type": "code",
   "execution_count": 425,
   "metadata": {},
   "outputs": [],
   "source": [
    "high = ['{', '}', '[']"
   ]
  },
  {
   "cell_type": "code",
   "execution_count": null,
   "metadata": {},
   "outputs": [],
   "source": []
  }
 ],
 "metadata": {
  "kernelspec": {
   "display_name": "Python 3",
   "language": "python",
   "name": "python3"
  },
  "language_info": {
   "codemirror_mode": {
    "name": "ipython",
    "version": 3
   },
   "file_extension": ".py",
   "mimetype": "text/x-python",
   "name": "python",
   "nbconvert_exporter": "python",
   "pygments_lexer": "ipython3",
   "version": "3.7.3"
  }
 },
 "nbformat": 4,
 "nbformat_minor": 2
}
